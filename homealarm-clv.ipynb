{
 "cells": [
  {
   "cell_type": "markdown",
   "metadata": {},
   "source": [
    "# Home Alarm CLV\n",
    "\n",
    "Prepare \"Home Alarm, Inc.: Assessing Customer Lifetime Value\" for class discussion and as an individual assignment and submit the assignment through GitLab. Be VERY clear about where results are coming from and what assumptions you are making in your Python code. It is in your best interest that we do not have to struggle to figure out where your numbers came from. The assignment (pdf) is on Canvas (week2/homealarm-clv.pdf). Example Excel calculations are also on Canvas (week1/aws-clv.xlsx and week1/notflix-cls.xlsx).\n",
    "\n",
    "## Setup\n",
    "\n",
    "Use this Jupyter notebook to calculate the CLV for a customer that uses auto-pay and for a customer that does not use auto-pay and answer question 1 through 4 in the assignment PDF.\n",
    "\n",
    "## Hints\n",
    "\n",
    "Add text motivating your work in Markdown format. Markdown is a simple formatting syntax for authoring HTML. For more details on using markdown go to http://commonmark.org/help/ for a 10-minute interactive Markdown tutorial\n",
    "\n",
    "Please generate an HTML (Notebook) with your answers to all the questions listed in the homealarm-clv.pdf file on Canvas. When you have finished editing the jupyter notebook and generated the HTML report make sure to save, commit, and push to GitLab. We will collect all files from GitLab after the due date.\n",
    "\n",
    "Use File > Export Notebook As... > Export Notebook to HTML to get the html report and include the jupyter notebook file and the HTML file in your submission.\n",
    "\n",
    "## Analysis\n",
    "\n",
    "The python dictionary below contains information about attrition notifications from the table on page 3 of the assignment PDF.\n",
    "\n",
    "Note: GitLab will automatically tests if your work is fully reproducible each time to \"push\" changes (see .gitlab-ci.yml for the configuration). If you get an email from GitLab stating that there was an error, it suggests a problem in your code. Note that the setup for the Home Alarm assignment will *not* test if your analysis is correct. Only if the code is valid and runs without issue in the docker container.\n"
   ]
  },
  {
   "cell_type": "code",
   "execution_count": 2,
   "metadata": {},
   "outputs": [],
   "source": [
    "import pandas as pd\n",
    "import numpy as np\n",
    "import seaborn as sns\n",
    "import matplotlib.pyplot as plt "
   ]
  },
  {
   "cell_type": "code",
   "execution_count": 223,
   "metadata": {},
   "outputs": [],
   "source": [
    "churn = pd.DataFrame(\n",
    "    {\n",
    "        \"autopay\": [0.032, 0.070, 0.097, 0.103, 0.095, 0.078, 0.069, 0.059, 0.053],\n",
    "        \"no_autopay\": [0.084, 0.122, 0.162, 0.154, 0.134, 0.120, 0.111, 0.096, 0.086],\n",
    "    }\n",
    ")"
   ]
  },
  {
   "cell_type": "markdown",
   "metadata": {},
   "source": [
    "### Create a new DataFrame `churn8` that has the churn values to use for the rest of the caculations"
   ]
  },
  {
   "cell_type": "code",
   "execution_count": 183,
   "metadata": {},
   "outputs": [],
   "source": [
    "month = np.arange(1, 109, 1)\n",
    "time = np.arange(13, 109, 1)\n",
    "#month"
   ]
  },
  {
   "cell_type": "code",
   "execution_count": 170,
   "metadata": {},
   "outputs": [],
   "source": [
    "# Monthly general increase rate\n",
    "\n",
    "general_rate = [1] * 12\n",
    "pre_rate = 1\n",
    "for i in range(8):\n",
    "    rate = pre_rate * 1.03\n",
    "    for j in range(12):\n",
    "        general_rate = general_rate + [rate]\n",
    "    pre_rate = rate\n",
    "general_rate = general_rate\n",
    "\n",
    "#len(general_rate)\n",
    "#general_rate"
   ]
  },
  {
   "cell_type": "code",
   "execution_count": 131,
   "metadata": {},
   "outputs": [],
   "source": [
    "\n",
    "churn8 = pd.DataFrame({'month':month,\n",
    "                       'general_rate':general_rate}\n",
    "                     )\n"
   ]
  },
  {
   "cell_type": "markdown",
   "metadata": {},
   "source": [
    "### List assumptions that apply to both autopay and non-autopay customers"
   ]
  },
  {
   "cell_type": "code",
   "execution_count": 292,
   "metadata": {},
   "outputs": [],
   "source": [
    "# list your assumptions here\n",
    "monthly_revenue = [i * 40 for i in general_rate]\n",
    "annual_growth = 0.03\n",
    "annual_discount_rate = 0.1\n",
    "\n",
    "\n",
    "#monthly_discount_rate = []\n",
    "#for i in range(1,10):\n",
    "#    annual_discount_rate = 1.1 ** i - 1\n",
    "#    #print(annual_discount_rate)\n",
    "#    discount_rate = [(annual_discount_rate + 1)**(1/12) - 1]\n",
    "#    print(discount_rate)\n",
    "#    for j in range(12):\n",
    "#        #print('test')\n",
    "#        monthly_discount_rate = monthly_discount_rate + discount_rate\n",
    "\n",
    "        \n",
    "monthly_discount_rate = (annual_discount_rate + 1)**(1/12) - 1\n",
    "#monthly_discount_rate = annual_discount_rate/12\n",
    "\n",
    "cost_service = [i * 0.15 for i in monthly_revenue]\n",
    "marketing_cost = [i * 0.05 for i in monthly_revenue]\n",
    "nr_years = 9\n",
    "\n",
    "#monthly_discount_rate"
   ]
  },
  {
   "cell_type": "code",
   "execution_count": 293,
   "metadata": {},
   "outputs": [],
   "source": [
    "churn8['monthly_revenue'] = [''] * 108\n",
    "churn8['monthly_revenue'] = monthly_revenue\n",
    "churn8['cost_service'] = [''] * 108\n",
    "churn8['cost_service'] = cost_service\n",
    "churn8['marketing_cost'] = [''] * 108\n",
    "churn8['marketing_cost'] = marketing_cost\n",
    "churn8['monthly_discount_rate'] = [''] * 108\n",
    "churn8['monthly_discount_rate'] = monthly_discount_rate"
   ]
  },
  {
   "cell_type": "code",
   "execution_count": 294,
   "metadata": {},
   "outputs": [
    {
     "data": {
      "text/html": [
       "<div>\n",
       "<style scoped>\n",
       "    .dataframe tbody tr th:only-of-type {\n",
       "        vertical-align: middle;\n",
       "    }\n",
       "\n",
       "    .dataframe tbody tr th {\n",
       "        vertical-align: top;\n",
       "    }\n",
       "\n",
       "    .dataframe thead th {\n",
       "        text-align: right;\n",
       "    }\n",
       "</style>\n",
       "<table border=\"1\" class=\"dataframe\">\n",
       "  <thead>\n",
       "    <tr style=\"text-align: right;\">\n",
       "      <th></th>\n",
       "      <th>month</th>\n",
       "      <th>general_rate</th>\n",
       "      <th>monthly_revenue</th>\n",
       "      <th>cost_service</th>\n",
       "      <th>marketing_cost</th>\n",
       "      <th>monthly_discount_rate</th>\n",
       "    </tr>\n",
       "  </thead>\n",
       "  <tbody>\n",
       "    <tr>\n",
       "      <th>0</th>\n",
       "      <td>1</td>\n",
       "      <td>1.00000</td>\n",
       "      <td>40.000000</td>\n",
       "      <td>6.00000</td>\n",
       "      <td>2.00000</td>\n",
       "      <td>0.007974</td>\n",
       "    </tr>\n",
       "    <tr>\n",
       "      <th>1</th>\n",
       "      <td>2</td>\n",
       "      <td>1.00000</td>\n",
       "      <td>40.000000</td>\n",
       "      <td>6.00000</td>\n",
       "      <td>2.00000</td>\n",
       "      <td>0.007974</td>\n",
       "    </tr>\n",
       "    <tr>\n",
       "      <th>2</th>\n",
       "      <td>3</td>\n",
       "      <td>1.00000</td>\n",
       "      <td>40.000000</td>\n",
       "      <td>6.00000</td>\n",
       "      <td>2.00000</td>\n",
       "      <td>0.007974</td>\n",
       "    </tr>\n",
       "    <tr>\n",
       "      <th>3</th>\n",
       "      <td>4</td>\n",
       "      <td>1.00000</td>\n",
       "      <td>40.000000</td>\n",
       "      <td>6.00000</td>\n",
       "      <td>2.00000</td>\n",
       "      <td>0.007974</td>\n",
       "    </tr>\n",
       "    <tr>\n",
       "      <th>4</th>\n",
       "      <td>5</td>\n",
       "      <td>1.00000</td>\n",
       "      <td>40.000000</td>\n",
       "      <td>6.00000</td>\n",
       "      <td>2.00000</td>\n",
       "      <td>0.007974</td>\n",
       "    </tr>\n",
       "    <tr>\n",
       "      <th>...</th>\n",
       "      <td>...</td>\n",
       "      <td>...</td>\n",
       "      <td>...</td>\n",
       "      <td>...</td>\n",
       "      <td>...</td>\n",
       "      <td>...</td>\n",
       "    </tr>\n",
       "    <tr>\n",
       "      <th>103</th>\n",
       "      <td>104</td>\n",
       "      <td>1.26677</td>\n",
       "      <td>50.670803</td>\n",
       "      <td>7.60062</td>\n",
       "      <td>2.53354</td>\n",
       "      <td>0.007974</td>\n",
       "    </tr>\n",
       "    <tr>\n",
       "      <th>104</th>\n",
       "      <td>105</td>\n",
       "      <td>1.26677</td>\n",
       "      <td>50.670803</td>\n",
       "      <td>7.60062</td>\n",
       "      <td>2.53354</td>\n",
       "      <td>0.007974</td>\n",
       "    </tr>\n",
       "    <tr>\n",
       "      <th>105</th>\n",
       "      <td>106</td>\n",
       "      <td>1.26677</td>\n",
       "      <td>50.670803</td>\n",
       "      <td>7.60062</td>\n",
       "      <td>2.53354</td>\n",
       "      <td>0.007974</td>\n",
       "    </tr>\n",
       "    <tr>\n",
       "      <th>106</th>\n",
       "      <td>107</td>\n",
       "      <td>1.26677</td>\n",
       "      <td>50.670803</td>\n",
       "      <td>7.60062</td>\n",
       "      <td>2.53354</td>\n",
       "      <td>0.007974</td>\n",
       "    </tr>\n",
       "    <tr>\n",
       "      <th>107</th>\n",
       "      <td>108</td>\n",
       "      <td>1.26677</td>\n",
       "      <td>50.670803</td>\n",
       "      <td>7.60062</td>\n",
       "      <td>2.53354</td>\n",
       "      <td>0.007974</td>\n",
       "    </tr>\n",
       "  </tbody>\n",
       "</table>\n",
       "<p>108 rows × 6 columns</p>\n",
       "</div>"
      ],
      "text/plain": [
       "     month  general_rate  monthly_revenue  cost_service  marketing_cost  \\\n",
       "0        1       1.00000        40.000000       6.00000         2.00000   \n",
       "1        2       1.00000        40.000000       6.00000         2.00000   \n",
       "2        3       1.00000        40.000000       6.00000         2.00000   \n",
       "3        4       1.00000        40.000000       6.00000         2.00000   \n",
       "4        5       1.00000        40.000000       6.00000         2.00000   \n",
       "..     ...           ...              ...           ...             ...   \n",
       "103    104       1.26677        50.670803       7.60062         2.53354   \n",
       "104    105       1.26677        50.670803       7.60062         2.53354   \n",
       "105    106       1.26677        50.670803       7.60062         2.53354   \n",
       "106    107       1.26677        50.670803       7.60062         2.53354   \n",
       "107    108       1.26677        50.670803       7.60062         2.53354   \n",
       "\n",
       "     monthly_discount_rate  \n",
       "0                 0.007974  \n",
       "1                 0.007974  \n",
       "2                 0.007974  \n",
       "3                 0.007974  \n",
       "4                 0.007974  \n",
       "..                     ...  \n",
       "103               0.007974  \n",
       "104               0.007974  \n",
       "105               0.007974  \n",
       "106               0.007974  \n",
       "107               0.007974  \n",
       "\n",
       "[108 rows x 6 columns]"
      ]
     },
     "execution_count": 294,
     "metadata": {},
     "output_type": "execute_result"
    }
   ],
   "source": [
    "churn8"
   ]
  },
  {
   "cell_type": "code",
   "execution_count": 295,
   "metadata": {},
   "outputs": [
    {
     "data": {
      "text/html": [
       "<div>\n",
       "<style scoped>\n",
       "    .dataframe tbody tr th:only-of-type {\n",
       "        vertical-align: middle;\n",
       "    }\n",
       "\n",
       "    .dataframe tbody tr th {\n",
       "        vertical-align: top;\n",
       "    }\n",
       "\n",
       "    .dataframe thead th {\n",
       "        text-align: right;\n",
       "    }\n",
       "</style>\n",
       "<table border=\"1\" class=\"dataframe\">\n",
       "  <thead>\n",
       "    <tr style=\"text-align: right;\">\n",
       "      <th></th>\n",
       "      <th>month</th>\n",
       "      <th>general_rate</th>\n",
       "      <th>monthly_revenue</th>\n",
       "      <th>cost_service</th>\n",
       "      <th>marketing_cost</th>\n",
       "      <th>monthly_discount_rate</th>\n",
       "    </tr>\n",
       "  </thead>\n",
       "  <tbody>\n",
       "    <tr>\n",
       "      <th>0</th>\n",
       "      <td>13</td>\n",
       "      <td>1.03000</td>\n",
       "      <td>41.200000</td>\n",
       "      <td>6.18000</td>\n",
       "      <td>2.06000</td>\n",
       "      <td>0.007974</td>\n",
       "    </tr>\n",
       "    <tr>\n",
       "      <th>1</th>\n",
       "      <td>14</td>\n",
       "      <td>1.03000</td>\n",
       "      <td>41.200000</td>\n",
       "      <td>6.18000</td>\n",
       "      <td>2.06000</td>\n",
       "      <td>0.007974</td>\n",
       "    </tr>\n",
       "    <tr>\n",
       "      <th>2</th>\n",
       "      <td>15</td>\n",
       "      <td>1.03000</td>\n",
       "      <td>41.200000</td>\n",
       "      <td>6.18000</td>\n",
       "      <td>2.06000</td>\n",
       "      <td>0.007974</td>\n",
       "    </tr>\n",
       "    <tr>\n",
       "      <th>3</th>\n",
       "      <td>16</td>\n",
       "      <td>1.03000</td>\n",
       "      <td>41.200000</td>\n",
       "      <td>6.18000</td>\n",
       "      <td>2.06000</td>\n",
       "      <td>0.007974</td>\n",
       "    </tr>\n",
       "    <tr>\n",
       "      <th>4</th>\n",
       "      <td>17</td>\n",
       "      <td>1.03000</td>\n",
       "      <td>41.200000</td>\n",
       "      <td>6.18000</td>\n",
       "      <td>2.06000</td>\n",
       "      <td>0.007974</td>\n",
       "    </tr>\n",
       "    <tr>\n",
       "      <th>...</th>\n",
       "      <td>...</td>\n",
       "      <td>...</td>\n",
       "      <td>...</td>\n",
       "      <td>...</td>\n",
       "      <td>...</td>\n",
       "      <td>...</td>\n",
       "    </tr>\n",
       "    <tr>\n",
       "      <th>91</th>\n",
       "      <td>104</td>\n",
       "      <td>1.26677</td>\n",
       "      <td>50.670803</td>\n",
       "      <td>7.60062</td>\n",
       "      <td>2.53354</td>\n",
       "      <td>0.007974</td>\n",
       "    </tr>\n",
       "    <tr>\n",
       "      <th>92</th>\n",
       "      <td>105</td>\n",
       "      <td>1.26677</td>\n",
       "      <td>50.670803</td>\n",
       "      <td>7.60062</td>\n",
       "      <td>2.53354</td>\n",
       "      <td>0.007974</td>\n",
       "    </tr>\n",
       "    <tr>\n",
       "      <th>93</th>\n",
       "      <td>106</td>\n",
       "      <td>1.26677</td>\n",
       "      <td>50.670803</td>\n",
       "      <td>7.60062</td>\n",
       "      <td>2.53354</td>\n",
       "      <td>0.007974</td>\n",
       "    </tr>\n",
       "    <tr>\n",
       "      <th>94</th>\n",
       "      <td>107</td>\n",
       "      <td>1.26677</td>\n",
       "      <td>50.670803</td>\n",
       "      <td>7.60062</td>\n",
       "      <td>2.53354</td>\n",
       "      <td>0.007974</td>\n",
       "    </tr>\n",
       "    <tr>\n",
       "      <th>95</th>\n",
       "      <td>108</td>\n",
       "      <td>1.26677</td>\n",
       "      <td>50.670803</td>\n",
       "      <td>7.60062</td>\n",
       "      <td>2.53354</td>\n",
       "      <td>0.007974</td>\n",
       "    </tr>\n",
       "  </tbody>\n",
       "</table>\n",
       "<p>96 rows × 6 columns</p>\n",
       "</div>"
      ],
      "text/plain": [
       "    month  general_rate  monthly_revenue  cost_service  marketing_cost  \\\n",
       "0      13       1.03000        41.200000       6.18000         2.06000   \n",
       "1      14       1.03000        41.200000       6.18000         2.06000   \n",
       "2      15       1.03000        41.200000       6.18000         2.06000   \n",
       "3      16       1.03000        41.200000       6.18000         2.06000   \n",
       "4      17       1.03000        41.200000       6.18000         2.06000   \n",
       "..    ...           ...              ...           ...             ...   \n",
       "91    104       1.26677        50.670803       7.60062         2.53354   \n",
       "92    105       1.26677        50.670803       7.60062         2.53354   \n",
       "93    106       1.26677        50.670803       7.60062         2.53354   \n",
       "94    107       1.26677        50.670803       7.60062         2.53354   \n",
       "95    108       1.26677        50.670803       7.60062         2.53354   \n",
       "\n",
       "    monthly_discount_rate  \n",
       "0                0.007974  \n",
       "1                0.007974  \n",
       "2                0.007974  \n",
       "3                0.007974  \n",
       "4                0.007974  \n",
       "..                    ...  \n",
       "91               0.007974  \n",
       "92               0.007974  \n",
       "93               0.007974  \n",
       "94               0.007974  \n",
       "95               0.007974  \n",
       "\n",
       "[96 rows x 6 columns]"
      ]
     },
     "execution_count": 295,
     "metadata": {},
     "output_type": "execute_result"
    }
   ],
   "source": [
    "# Churn 9 is churn 8 without first 12 rows\n",
    "\n",
    "churn9 = churn8.iloc[12:,].reset_index().drop(['index'], axis = 1)\n",
    "churn9"
   ]
  },
  {
   "cell_type": "markdown",
   "metadata": {},
   "source": [
    "### Calculate CLV for non-autopay customers"
   ]
  },
  {
   "cell_type": "code",
   "execution_count": 296,
   "metadata": {},
   "outputs": [
    {
     "data": {
      "text/plain": [
       "96"
      ]
     },
     "execution_count": 296,
     "metadata": {},
     "output_type": "execute_result"
    }
   ],
   "source": [
    "# create an array with shape (96,) with retention rates \n",
    "# _nap stands for 'non-autopay'\n",
    "retention_nap = []\n",
    "retention_pre = 1\n",
    "for i in churn.no_autopay[:-1]:\n",
    "    retention = (1 - i) * retention_pre\n",
    "    #print(retention)\n",
    "    for i in range(12):\n",
    "        retention_nap = retention_nap + [retention]\n",
    "    retention_pre = retention\n",
    "    #print(retention_pre)\n",
    "    \n",
    "    \n",
    "\n",
    "retention_nap\n",
    "len(retention_nap)"
   ]
  },
  {
   "cell_type": "code",
   "execution_count": 297,
   "metadata": {},
   "outputs": [],
   "source": [
    "# calculate clv here\n",
    "# you can define additional variables as needed, however \n",
    "# you **must** use the variables below and define them appropriately\n",
    "# each of the variables defined below must have shape (96,)\n",
    "# the clv_nap variable will show the CLV value if evaluated at\n",
    "# month 1, 2, ..., 96\n",
    "\n",
    "revenues_nap = churn9.monthly_revenue \n",
    "service_nap = revenues_nap * 0.15\n",
    "marketing_nap = revenues_nap * 0.05\n",
    "profit_nap = revenues_nap - service_nap - marketing_nap\n",
    "expected_profit_nap = profit_nap * retention_nap\n",
    "discount_month_number = np.arange(1,97,1)\n",
    "pv_expected_profit_nap = expected_profit_nap/(1 + churn9.monthly_discount_rate)**discount_month_number # present value of expected profits\n",
    "\n",
    "clv_nap = []\n",
    "nxt = 0\n",
    "for i in pv_expected_profit_nap:\n",
    "    clv = i + nxt\n",
    "    nxt = clv\n",
    "    clv_nap = clv_nap + [clv]"
   ]
  },
  {
   "cell_type": "markdown",
   "metadata": {},
   "source": [
    "### Calculate CLV for autopay customers"
   ]
  },
  {
   "cell_type": "code",
   "execution_count": 298,
   "metadata": {},
   "outputs": [
    {
     "data": {
      "text/plain": [
       "96"
      ]
     },
     "execution_count": 298,
     "metadata": {},
     "output_type": "execute_result"
    }
   ],
   "source": [
    "# create an array with shape (96,) with retention rates \n",
    "# _ap stands for 'autopay'\n",
    "\n",
    "retention_ap = []\n",
    "retention_pre = 1\n",
    "for i in churn.autopay[:-1]:\n",
    "    retention = (1 - i) * retention_pre\n",
    "    #print(retention)\n",
    "    for i in range(12):\n",
    "        retention_ap = retention_ap + [retention]\n",
    "    retention_pre = retention\n",
    "    #print(retention_pre)\n",
    "    \n",
    "#retention_nap\n",
    "len(retention_nap)"
   ]
  },
  {
   "cell_type": "code",
   "execution_count": 299,
   "metadata": {},
   "outputs": [],
   "source": [
    "# calculate clv here\n",
    "# you can define additional variables as needed, however \n",
    "# you **must** use the variables below and define them appropriately\n",
    "# each of the variables defined below must have shape (96,)\n",
    "# the clv_ap variable will show the CLV value if evaluated at\n",
    "# month 1, 2, ..., 96\n",
    "\n",
    "revenues_ap = churn9.monthly_revenue \n",
    "service_ap = revenues_ap * 0.15\n",
    "marketing_ap = revenues_ap * 0.05\n",
    "profit_ap = revenues_ap - service_ap - marketing_ap\n",
    "expected_profit_ap = profit_ap * retention_ap\n",
    "discount_month_number = np.arange(1,97,1)\n",
    "pv_expected_profit_ap = expected_profit_ap/(1 + churn9.monthly_discount_rate)**discount_month_number # present value of expected profits\n",
    "\n",
    "\n",
    "clv_ap = []\n",
    "nxt = 0\n",
    "for i in pv_expected_profit_ap:\n",
    "    clv = i + nxt\n",
    "    nxt = clv\n",
    "    clv_ap = clv_ap + [clv]"
   ]
  },
  {
   "cell_type": "code",
   "execution_count": 300,
   "metadata": {},
   "outputs": [
    {
     "data": {
      "text/html": [
       "<div>\n",
       "<style scoped>\n",
       "    .dataframe tbody tr th:only-of-type {\n",
       "        vertical-align: middle;\n",
       "    }\n",
       "\n",
       "    .dataframe tbody tr th {\n",
       "        vertical-align: top;\n",
       "    }\n",
       "\n",
       "    .dataframe thead th {\n",
       "        text-align: right;\n",
       "    }\n",
       "</style>\n",
       "<table border=\"1\" class=\"dataframe\">\n",
       "  <thead>\n",
       "    <tr style=\"text-align: right;\">\n",
       "      <th></th>\n",
       "      <th>Time</th>\n",
       "      <th>autopay</th>\n",
       "      <th>no_autopay</th>\n",
       "    </tr>\n",
       "  </thead>\n",
       "  <tbody>\n",
       "    <tr>\n",
       "      <th>0</th>\n",
       "      <td>13</td>\n",
       "      <td>31.652876</td>\n",
       "      <td>29.952514</td>\n",
       "    </tr>\n",
       "    <tr>\n",
       "      <th>1</th>\n",
       "      <td>14</td>\n",
       "      <td>63.055343</td>\n",
       "      <td>59.668073</td>\n",
       "    </tr>\n",
       "    <tr>\n",
       "      <th>2</th>\n",
       "      <td>15</td>\n",
       "      <td>94.209385</td>\n",
       "      <td>89.148550</td>\n",
       "    </tr>\n",
       "    <tr>\n",
       "      <th>3</th>\n",
       "      <td>16</td>\n",
       "      <td>125.116964</td>\n",
       "      <td>118.395805</td>\n",
       "    </tr>\n",
       "    <tr>\n",
       "      <th>4</th>\n",
       "      <td>17</td>\n",
       "      <td>155.780032</td>\n",
       "      <td>147.411684</td>\n",
       "    </tr>\n",
       "    <tr>\n",
       "      <th>...</th>\n",
       "      <td>...</td>\n",
       "      <td>...</td>\n",
       "      <td>...</td>\n",
       "    </tr>\n",
       "    <tr>\n",
       "      <th>91</th>\n",
       "      <td>104</td>\n",
       "      <td>1757.516233</td>\n",
       "      <td>1439.174441</td>\n",
       "    </tr>\n",
       "    <tr>\n",
       "      <th>92</th>\n",
       "      <td>105</td>\n",
       "      <td>1767.839372</td>\n",
       "      <td>1445.937289</td>\n",
       "    </tr>\n",
       "    <tr>\n",
       "      <th>93</th>\n",
       "      <td>106</td>\n",
       "      <td>1778.080844</td>\n",
       "      <td>1452.646635</td>\n",
       "    </tr>\n",
       "    <tr>\n",
       "      <th>94</th>\n",
       "      <td>107</td>\n",
       "      <td>1788.241295</td>\n",
       "      <td>1459.302903</td>\n",
       "    </tr>\n",
       "    <tr>\n",
       "      <th>95</th>\n",
       "      <td>108</td>\n",
       "      <td>1798.321366</td>\n",
       "      <td>1465.906513</td>\n",
       "    </tr>\n",
       "  </tbody>\n",
       "</table>\n",
       "<p>96 rows × 3 columns</p>\n",
       "</div>"
      ],
      "text/plain": [
       "    Time      autopay   no_autopay\n",
       "0     13    31.652876    29.952514\n",
       "1     14    63.055343    59.668073\n",
       "2     15    94.209385    89.148550\n",
       "3     16   125.116964   118.395805\n",
       "4     17   155.780032   147.411684\n",
       "..   ...          ...          ...\n",
       "91   104  1757.516233  1439.174441\n",
       "92   105  1767.839372  1445.937289\n",
       "93   106  1778.080844  1452.646635\n",
       "94   107  1788.241295  1459.302903\n",
       "95   108  1798.321366  1465.906513\n",
       "\n",
       "[96 rows x 3 columns]"
      ]
     },
     "execution_count": 300,
     "metadata": {},
     "output_type": "execute_result"
    }
   ],
   "source": [
    "homealarm = pd.DataFrame(\n",
    "    {\"Time\": time, \"autopay\": clv_ap, \"no_autopay\": clv_nap}\n",
    ")\n",
    "homealarm"
   ]
  },
  {
   "cell_type": "markdown",
   "metadata": {},
   "source": [
    "### Create a line graph of CLV for both autopay and non-autopay customers "
   ]
  },
  {
   "cell_type": "code",
   "execution_count": 301,
   "metadata": {},
   "outputs": [
    {
     "data": {
      "image/png": "[encoded data removed]",
      "text/plain": [
       "<Figure size 432x288 with 1 Axes>"
      ]
     },
     "metadata": {
      "needs_background": "light"
     },
     "output_type": "display_data"
    }
   ],
   "source": [
    "# enter your code here to create a single plot with 2-lines\n",
    "plt.plot(homealarm.Time, homealarm.autopay, label = 'autopay')\n",
    "plt.plot(homealarm.Time, homealarm.no_autopay, label = 'no_autopay')\n",
    "plt.legend()\n",
    "plt.show()"
   ]
  },
  {
   "cell_type": "markdown",
   "metadata": {},
   "source": [
    "### Create a line graph of the retention rate for both autopay and non-autopay customer "
   ]
  },
  {
   "cell_type": "code",
   "execution_count": 302,
   "metadata": {},
   "outputs": [
    {
     "data": {
      "image/png": "[encoded data removed]",
      "text/plain": [
       "<Figure size 432x288 with 1 Axes>"
      ]
     },
     "metadata": {
      "needs_background": "light"
     },
     "output_type": "display_data"
    }
   ],
   "source": [
    "# enter your code here to create a single plot with 2-lines\n",
    "plt.plot(homealarm.Time, retention_ap, label = 'autopay')\n",
    "plt.plot(homealarm.Time, retention_nap, label = 'no_autopay')\n",
    "plt.legend()\n",
    "plt.show()"
   ]
  },
  {
   "cell_type": "markdown",
   "metadata": {},
   "source": [
    "### Calculate the maximum amount to spend on autopay incentives"
   ]
  },
  {
   "cell_type": "code",
   "execution_count": 308,
   "metadata": {},
   "outputs": [
    {
     "name": "stdout",
     "output_type": "stream",
     "text": [
      "Maxium amount to spend on autopay incentives is 332.41\n"
     ]
    }
   ],
   "source": [
    "max_pay = clv_ap[-1] - clv_nap[-1] # insert your code here\n",
    "print(f\"Maxium amount to spend on autopay incentives is {round(max_pay, 2)}\")"
   ]
  },
  {
   "cell_type": "markdown",
   "metadata": {},
   "source": [
    "### Suggested marketing actions\n",
    "\n",
    "Suggest two marketing actions Home Alarm should consider to convert existing customers to autopay who are about to start their second year with Home Alarm. Be specific about incentive amounts you recommend using (if any)"
   ]
  },
  {
   "cell_type": "markdown",
   "metadata": {},
   "source": [
    "... enter suggested marketing actions here ..."
   ]
  },
  {
   "cell_type": "markdown",
   "metadata": {},
   "source": [
    "#### 1. Home Alarm could give lower discount rate to customers who are willing to switch from non-autopay to autopay, as the range of rate changes does not exceed 9 years compounded of 332.41 dollars."
   ]
  },
  {
   "cell_type": "markdown",
   "metadata": {},
   "source": [
    "#### 2. Home Alarm coule give free update to home security divices for those who want/would swtich, for which the upgrade cost should not exceed 332.41 dollars."
   ]
  },
  {
   "cell_type": "code",
   "execution_count": null,
   "metadata": {},
   "outputs": [],
   "source": []
  }
 ],
 "metadata": {
  "jupytext": {
   "formats": "ipynb,py:percent"
  },
  "kernelspec": {
   "display_name": "Python 3",
   "language": "python",
   "name": "python3"
  },
  "language_info": {
   "codemirror_mode": {
    "name": "ipython",
    "version": 3
   },
   "file_extension": ".py",
   "mimetype": "text/x-python",
   "name": "python",
   "nbconvert_exporter": "python",
   "pygments_lexer": "ipython3",
   "version": "3.8.5"
  }
 },
 "nbformat": 4,
 "nbformat_minor": 4
}
